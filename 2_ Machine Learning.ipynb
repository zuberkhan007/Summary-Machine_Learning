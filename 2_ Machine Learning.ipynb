{
 "cells": [
  {
   "cell_type": "markdown",
   "metadata": {},
   "source": [
    "# Machine Learning"
   ]
  },
  {
   "cell_type": "code",
   "execution_count": 2,
   "metadata": {},
   "outputs": [],
   "source": [
    "# import librarires\n",
    "\n",
    "import pandas as pd\n",
    "import numpy as np\n",
    "import matplotlib.pyplot as plt\n",
    "\n",
    "from sklearn import linear_model\n",
    "from sklearn.linear_model import LogisticRegression\n",
    "from sklearn import tree\n",
    "from sklearn.svm import SVC\n",
    "from sklearn.ensemble import RandomForestClassifier\n",
    "from sklearn.naive_bayes import GaussianNB\n",
    "from sklearn.naive_bayes import MultinomialNB\n",
    "from sklearn.neighbors import KNeighborsClassifier\n",
    "from sklearn.cluster import KMeans\n",
    "\n",
    "\n",
    "from sklearn.preprocessing import MinMaxScaler\n",
    "from sklearn.model_selection import train_test_split\n",
    "from sklearn.model_selection import StratifiedKFold\n",
    "from sklearn.metrics import confusion_matrix\n",
    "from sklearn.preprocessing import LabelEncoder"
   ]
  },
  {
   "cell_type": "code",
   "execution_count": 3,
   "metadata": {},
   "outputs": [],
   "source": [
    "# create DataFrame\n",
    "import sklearn.datasets as ds\n",
    "dir(ds)\n",
    "from sklearn.datasets import load_iris\n",
    "li = load_iris()\n",
    "\n",
    "df = pd.DataFrame(data=li.data, columns=li.feature_names)\n",
    "df['species'] = li['target']"
   ]
  },
  {
   "cell_type": "code",
   "execution_count": 4,
   "metadata": {},
   "outputs": [
    {
     "data": {
      "text/html": [
       "<div>\n",
       "<style scoped>\n",
       "    .dataframe tbody tr th:only-of-type {\n",
       "        vertical-align: middle;\n",
       "    }\n",
       "\n",
       "    .dataframe tbody tr th {\n",
       "        vertical-align: top;\n",
       "    }\n",
       "\n",
       "    .dataframe thead th {\n",
       "        text-align: right;\n",
       "    }\n",
       "</style>\n",
       "<table border=\"1\" class=\"dataframe\">\n",
       "  <thead>\n",
       "    <tr style=\"text-align: right;\">\n",
       "      <th></th>\n",
       "      <th>sepal length (cm)</th>\n",
       "      <th>sepal width (cm)</th>\n",
       "      <th>petal length (cm)</th>\n",
       "      <th>petal width (cm)</th>\n",
       "      <th>species</th>\n",
       "    </tr>\n",
       "  </thead>\n",
       "  <tbody>\n",
       "    <tr>\n",
       "      <th>0</th>\n",
       "      <td>5.1</td>\n",
       "      <td>3.5</td>\n",
       "      <td>1.4</td>\n",
       "      <td>0.2</td>\n",
       "      <td>0</td>\n",
       "    </tr>\n",
       "    <tr>\n",
       "      <th>1</th>\n",
       "      <td>4.9</td>\n",
       "      <td>3.0</td>\n",
       "      <td>1.4</td>\n",
       "      <td>0.2</td>\n",
       "      <td>0</td>\n",
       "    </tr>\n",
       "    <tr>\n",
       "      <th>2</th>\n",
       "      <td>4.7</td>\n",
       "      <td>3.2</td>\n",
       "      <td>1.3</td>\n",
       "      <td>0.2</td>\n",
       "      <td>0</td>\n",
       "    </tr>\n",
       "    <tr>\n",
       "      <th>3</th>\n",
       "      <td>4.6</td>\n",
       "      <td>3.1</td>\n",
       "      <td>1.5</td>\n",
       "      <td>0.2</td>\n",
       "      <td>0</td>\n",
       "    </tr>\n",
       "    <tr>\n",
       "      <th>4</th>\n",
       "      <td>5.0</td>\n",
       "      <td>3.6</td>\n",
       "      <td>1.4</td>\n",
       "      <td>0.2</td>\n",
       "      <td>0</td>\n",
       "    </tr>\n",
       "    <tr>\n",
       "      <th>...</th>\n",
       "      <td>...</td>\n",
       "      <td>...</td>\n",
       "      <td>...</td>\n",
       "      <td>...</td>\n",
       "      <td>...</td>\n",
       "    </tr>\n",
       "    <tr>\n",
       "      <th>145</th>\n",
       "      <td>6.7</td>\n",
       "      <td>3.0</td>\n",
       "      <td>5.2</td>\n",
       "      <td>2.3</td>\n",
       "      <td>2</td>\n",
       "    </tr>\n",
       "    <tr>\n",
       "      <th>146</th>\n",
       "      <td>6.3</td>\n",
       "      <td>2.5</td>\n",
       "      <td>5.0</td>\n",
       "      <td>1.9</td>\n",
       "      <td>2</td>\n",
       "    </tr>\n",
       "    <tr>\n",
       "      <th>147</th>\n",
       "      <td>6.5</td>\n",
       "      <td>3.0</td>\n",
       "      <td>5.2</td>\n",
       "      <td>2.0</td>\n",
       "      <td>2</td>\n",
       "    </tr>\n",
       "    <tr>\n",
       "      <th>148</th>\n",
       "      <td>6.2</td>\n",
       "      <td>3.4</td>\n",
       "      <td>5.4</td>\n",
       "      <td>2.3</td>\n",
       "      <td>2</td>\n",
       "    </tr>\n",
       "    <tr>\n",
       "      <th>149</th>\n",
       "      <td>5.9</td>\n",
       "      <td>3.0</td>\n",
       "      <td>5.1</td>\n",
       "      <td>1.8</td>\n",
       "      <td>2</td>\n",
       "    </tr>\n",
       "  </tbody>\n",
       "</table>\n",
       "<p>150 rows × 5 columns</p>\n",
       "</div>"
      ],
      "text/plain": [
       "     sepal length (cm)  sepal width (cm)  petal length (cm)  petal width (cm)  \\\n",
       "0                  5.1               3.5                1.4               0.2   \n",
       "1                  4.9               3.0                1.4               0.2   \n",
       "2                  4.7               3.2                1.3               0.2   \n",
       "3                  4.6               3.1                1.5               0.2   \n",
       "4                  5.0               3.6                1.4               0.2   \n",
       "..                 ...               ...                ...               ...   \n",
       "145                6.7               3.0                5.2               2.3   \n",
       "146                6.3               2.5                5.0               1.9   \n",
       "147                6.5               3.0                5.2               2.0   \n",
       "148                6.2               3.4                5.4               2.3   \n",
       "149                5.9               3.0                5.1               1.8   \n",
       "\n",
       "     species  \n",
       "0          0  \n",
       "1          0  \n",
       "2          0  \n",
       "3          0  \n",
       "4          0  \n",
       "..       ...  \n",
       "145        2  \n",
       "146        2  \n",
       "147        2  \n",
       "148        2  \n",
       "149        2  \n",
       "\n",
       "[150 rows x 5 columns]"
      ]
     },
     "execution_count": 4,
     "metadata": {},
     "output_type": "execute_result"
    }
   ],
   "source": [
    "df"
   ]
  },
  {
   "cell_type": "code",
   "execution_count": 8,
   "metadata": {},
   "outputs": [],
   "source": [
    "# test train split \n",
    "# In case of DataFrame: drop output variable from DataFrame and have a separate variable for that\n",
    "x = df.drop('species', axis = 'columns')\n",
    "y = df['species']\n",
    "\n",
    "\n",
    "# Feature Scaling: Scaling the variables between 0 and 1 \n",
    "scaler = MinMaxScaler()\n",
    "scaler.fit(x)\n",
    "x = scaler.transform(x)\n",
    "\n",
    "x_train, x_test, y_train, y_test = train_test_split(x,y,test_size=0.2) \n",
    "\n",
    "# model = linear_model.LinearRegression()\n",
    "# model.fit(x_train, y_train)\n",
    "# y_predict = model.predict(x_test)"
   ]
  },
  {
   "cell_type": "markdown",
   "metadata": {},
   "source": [
    "# K Fold Cross Validation"
   ]
  },
  {
   "cell_type": "code",
   "execution_count": 35,
   "metadata": {},
   "outputs": [],
   "source": [
    "# Store model predictions\n",
    "prediction_linear = []\n",
    "prediction_l1_lasso_reg = []\n",
    "prediction_l2_ridge_reg = []\n",
    "prediction_logistic = []\n",
    "prediction_decision_tree = []\n",
    "prediction_svm = []\n",
    "prediction_random_forest = []\n",
    "prediction_gaussian_naive_bayes = []\n",
    "prediction_multinomial_naive_bayes = []\n",
    "\n",
    "# Store model scores\n",
    "scores_linear = []\n",
    "scores_l1_lasso_reg = []\n",
    "scores_l2_ridge_reg = []\n",
    "scores_logistic = []\n",
    "scores_decision_tree = []\n",
    "scores_svm = []\n",
    "scores_random_forest = []\n",
    "scores_gaussian_naive_bayes = []\n",
    "scores_multinomial_naive_bayes = []\n",
    "\n",
    "# make objects of the model\n",
    "linear_object = linear_model.LinearRegression()\n",
    "l1_lasso_reg_object = linear_model.Lasso(alpha=50, max_iter=100, tol=0.1)\n",
    "l2_ridge_reg_object = linear_model.Ridge(alpha=50, max_iter=100, tol=0.1)\n",
    "logistic_object = LogisticRegression(solver='liblinear',multi_class='ovr')\n",
    "decision_tree_object = tree.DecisionTreeClassifier()\n",
    "svm_object = SVC(C=1, gamma=10, kernel='linear')\n",
    "random_forest_object = RandomForestClassifier(n_estimators=20)\n",
    "gaussian_naive_bayes_object = GaussianNB()\n",
    "multinomial_naive_bayes_object = MultinomialNB()"
   ]
  },
  {
   "cell_type": "code",
   "execution_count": 36,
   "metadata": {},
   "outputs": [
    {
     "name": "stdout",
     "output_type": "stream",
     "text": [
      "Linear Regression Model score is: \n",
      " [0.9407089423425793, 0.9175266399145782, 0.9227749363050073]\n",
      "Lasso, L1 Regularization Model score is: \n",
      " [-0.0013644633110978521, 0.0, -0.0013644633110978521]\n",
      "Ridge, L2 Regularization Model score is: \n",
      " [0.8985451488023348, 0.8959852309411054, 0.8895050918427343]\n",
      "Logistic Regression Model score is: \n",
      " [0.96, 0.96, 0.94]\n",
      "Decision Tree Model score is: \n",
      " [0.98, 0.94, 0.98]\n",
      "Support Vector Machine Model score is: \n",
      " [1.0, 1.0, 0.98]\n",
      "Random Forest Model score is: \n",
      " [0.98, 0.94, 0.96]\n",
      "Gaussian Naive Bayes Model score is: \n",
      " [0.92, 0.94, 0.96]\n",
      "Multinomial Naive Bayes Model score is: \n",
      " [0.96, 0.92, 0.96]\n"
     ]
    }
   ],
   "source": [
    "def get_score(model, x_train, x_test, y_train, y_test):\n",
    "    model.fit(x_train, y_train)\n",
    "    score = model.score(x_test, y_test)\n",
    "    return score\n",
    "\n",
    "def get_prediction(model, x_test):\n",
    "    y_predict = model.predict(x_test)\n",
    "    return y_predict\n",
    "\n",
    "folds = StratifiedKFold(n_splits=3)\n",
    "for train_index, test_index in folds.split(li.data,li.target):\n",
    "\n",
    "    x_train = li.data[train_index]\n",
    "    x_test = li.data[test_index]\n",
    "    y_train = li.target[train_index]\n",
    "    y_test = li.target[test_index]\n",
    "    \n",
    "    scores_linear.append(get_score(linear_object,x_train, x_test, y_train, y_test))\n",
    "    prediction_linear.append(get_prediction(linear_object, x_test))\n",
    "    \n",
    "    scores_l1_lasso_reg.append(get_score(l1_lasso_reg_object,x_train, x_test, y_train, y_test))\n",
    "    prediction_l1_lasso_reg.append(get_prediction(l1_lasso_reg_object, x_test))\n",
    "    \n",
    "    scores_l2_ridge_reg.append(get_score(l2_ridge_reg_object,x_train, x_test, y_train, y_test))\n",
    "    prediction_l2_ridge_reg.append(get_prediction(l2_ridge_reg_object, x_test))\n",
    "    \n",
    "    scores_logistic.append(get_score(logistic_object, x_train, x_test, y_train, y_test)) \n",
    "    prediction_logistic.append(get_prediction(logistic_object, x_test))\n",
    "\n",
    "    scores_decision_tree.append(get_score(decision_tree_object, x_train, x_test, y_train, y_test))\n",
    "    prediction_decision_tree.append(get_prediction(decision_tree_object, x_test))\n",
    "\n",
    "\n",
    "    scores_svm.append(get_score(svm_object, x_train, x_test, y_train, y_test))\n",
    "    prediction_svm.append(get_prediction(svm_object, x_test))\n",
    "\n",
    "    scores_random_forest.append(get_score(random_forest_object, x_train, x_test, y_train, y_test))\n",
    "    prediction_random_forest.append(get_prediction(random_forest_object, x_test))\n",
    "    \n",
    "    scores_gaussian_naive_bayes.append(get_score(gaussian_naive_bayes_object, x_train, x_test, y_train, y_test))\n",
    "    prediction_gaussian_naive_bayes.append(get_prediction(gaussian_naive_bayes_object, x_test))\n",
    "    \n",
    "    scores_multinomial_naive_bayes.append(get_score(multinomial_naive_bayes_object, x_train, x_test, y_train, y_test))\n",
    "    prediction_multinomial_naive_bayes.append(get_prediction(multinomial_naive_bayes_object, x_test))\n",
    "\n",
    "print('Linear Regression Model score is: \\n', scores_linear)\n",
    "print('Lasso, L1 Regularization Model score is: \\n', scores_l1_lasso_reg)\n",
    "print('Ridge, L2 Regularization Model score is: \\n', scores_l2_ridge_reg)\n",
    "print('Logistic Regression Model score is: \\n', scores_logistic)\n",
    "print('Decision Tree Model score is: \\n', scores_decision_tree)\n",
    "print('Support Vector Machine Model score is: \\n', scores_svm)\n",
    "print('Random Forest Model score is: \\n', scores_random_forest)\n",
    "print('Gaussian Naive Bayes Model score is: \\n', scores_gaussian_naive_bayes)\n",
    "print('Multinomial Naive Bayes Model score is: \\n', scores_multinomial_naive_bayes)"
   ]
  },
  {
   "cell_type": "code",
   "execution_count": 37,
   "metadata": {},
   "outputs": [],
   "source": [
    "# # Parameters to check in a model:\n",
    "\n",
    "# # Linear Regression:\n",
    "# print('Linear Regression Plot: \\n')\n",
    "# print(plt.scatter(y_test, prediction_linear[0]))\n",
    "# print('Linear Regression Coefficient: \\n', linear_object.coef_)\n",
    "# print('Linear Regression Intercept: \\n', linear_object.intercept_)\n",
    "\n",
    "# # Logistic regression:\n",
    "# print('Logistic Regression Plot: \\n')\n",
    "# print(plt.scatter(y_test, prediction_logistic[0]))\n",
    "# print('Logistic Regression Coefficient: \\n', logistic_object.coef_[0])\n",
    "# print('Logistic Regression Intercept: \\n', logistic_object.intercept_)\n",
    "# print('Logistic Regression Confusion Matrix: \\n', confusion_matrix(y_test, prediction_logistic[0]))\n",
    "\n",
    "# print('Decision Tree Confusion Matrix: \\n', confusion_matrix(y_test, prediction_decision_tree[0]))\n",
    "# print('SVM Confusion Matrix: \\n', confusion_matrix(y_test, prediction_svm[0]))\n",
    "# print('Random Forest Confusion Matrix: \\n', confusion_matrix(y_test, prediction_random_forest[0]))\n",
    "\n",
    "# # can plot decision tree using graphviz"
   ]
  },
  {
   "cell_type": "code",
   "execution_count": 38,
   "metadata": {},
   "outputs": [],
   "source": [
    "# L1 Regularization and L2 Regularization are used when simple regression overfits the data\n",
    "# Gaussian Naive Bayes is used when distribution is Gaussian or bell shaped \n",
    "# Multinomial Naive Bayes  is used email spam detection, recommendation System"
   ]
  },
  {
   "cell_type": "markdown",
   "metadata": {},
   "source": [
    "# Shortcut to K Fold Cross Validation"
   ]
  },
  {
   "cell_type": "code",
   "execution_count": 39,
   "metadata": {
    "scrolled": true
   },
   "outputs": [
    {
     "name": "stdout",
     "output_type": "stream",
     "text": [
      "Linear Regression Model score is: \n",
      "\n",
      "[0. 0. 0.]\n",
      "Lasso, L1 Regularization Model score is: \n",
      "\n",
      "[0. 1. 0.]\n",
      "Ridge, L2 Regularization Model score is: \n",
      "\n",
      "[0. 0. 0.]\n",
      "Logistic Regression Model score is: \n",
      "\n",
      "[0.96 0.96 0.94]\n",
      "Decision Tree Model score is: \n",
      "\n",
      "[0.98 0.94 1.  ]\n",
      "Support Vector Machine Model score is: \n",
      "\n",
      "[1.   1.   0.98]\n",
      "Random Forest Model score is: \n",
      "\n",
      "[0.98 0.92 0.98]\n",
      "Gaussian Naive Bayes Model score is: \n",
      "\n",
      "[0.92 0.94 0.96]\n",
      "Multinomial Naive Bayes Model score is: \n",
      "\n",
      "[0.96 0.92 0.96]\n"
     ]
    }
   ],
   "source": [
    "# use cross_val_score\n",
    "from sklearn.model_selection import cross_val_score\n",
    "\n",
    "print('Linear Regression Model score is: \\n')\n",
    "print(cross_val_score(linear_object, li.data, li.target,cv=3))\n",
    "\n",
    "print('Lasso, L1 Regularization Model score is: \\n')\n",
    "print(cross_val_score(l1_lasso_reg_object, li.data, li.target,cv=3))\n",
    "\n",
    "print('Ridge, L2 Regularization Model score is: \\n')\n",
    "print(cross_val_score(l2_ridge_reg_object, li.data, li.target,cv=3))\n",
    "\n",
    "print('Logistic Regression Model score is: \\n')\n",
    "print(cross_val_score(logistic_object, li.data, li.target,cv=3))\n",
    "\n",
    "print('Decision Tree Model score is: \\n')\n",
    "print(cross_val_score(decision_tree_object, li.data, li.target,cv=3))\n",
    "\n",
    "print('Support Vector Machine Model score is: \\n')\n",
    "print(cross_val_score(svm_object, li.data, li.target,cv=3))\n",
    "\n",
    "print('Random Forest Model score is: \\n')\n",
    "print(cross_val_score(random_forest_object, li.data, li.target,cv=3))\n",
    "\n",
    "print('Gaussian Naive Bayes Model score is: \\n')\n",
    "print(cross_val_score(gaussian_naive_bayes_object, li.data, li.target,cv=3))\n",
    "\n",
    "print('Multinomial Naive Bayes Model score is: \\n')\n",
    "print(cross_val_score(multinomial_naive_bayes_object, li.data, li.target,cv=3))"
   ]
  },
  {
   "cell_type": "markdown",
   "metadata": {},
   "source": [
    "# Hyperparameter Tuning \n",
    "* GridSearchCV gives all possible outputs after permutation and combination\n",
    "* RandomizedSearchCV gives random outputs and saves computation time incase of a huge dataset"
   ]
  },
  {
   "cell_type": "code",
   "execution_count": 41,
   "metadata": {},
   "outputs": [
    {
     "data": {
      "text/html": [
       "<div>\n",
       "<style scoped>\n",
       "    .dataframe tbody tr th:only-of-type {\n",
       "        vertical-align: middle;\n",
       "    }\n",
       "\n",
       "    .dataframe tbody tr th {\n",
       "        vertical-align: top;\n",
       "    }\n",
       "\n",
       "    .dataframe thead th {\n",
       "        text-align: right;\n",
       "    }\n",
       "</style>\n",
       "<table border=\"1\" class=\"dataframe\">\n",
       "  <thead>\n",
       "    <tr style=\"text-align: right;\">\n",
       "      <th></th>\n",
       "      <th>param_C</th>\n",
       "      <th>param_kernel</th>\n",
       "      <th>mean_test_score</th>\n",
       "    </tr>\n",
       "  </thead>\n",
       "  <tbody>\n",
       "    <tr>\n",
       "      <th>0</th>\n",
       "      <td>1</td>\n",
       "      <td>rbf</td>\n",
       "      <td>0.980000</td>\n",
       "    </tr>\n",
       "    <tr>\n",
       "      <th>1</th>\n",
       "      <td>1</td>\n",
       "      <td>linear</td>\n",
       "      <td>0.980000</td>\n",
       "    </tr>\n",
       "    <tr>\n",
       "      <th>2</th>\n",
       "      <td>10</td>\n",
       "      <td>rbf</td>\n",
       "      <td>0.980000</td>\n",
       "    </tr>\n",
       "    <tr>\n",
       "      <th>3</th>\n",
       "      <td>10</td>\n",
       "      <td>linear</td>\n",
       "      <td>0.973333</td>\n",
       "    </tr>\n",
       "    <tr>\n",
       "      <th>4</th>\n",
       "      <td>20</td>\n",
       "      <td>rbf</td>\n",
       "      <td>0.966667</td>\n",
       "    </tr>\n",
       "    <tr>\n",
       "      <th>5</th>\n",
       "      <td>20</td>\n",
       "      <td>linear</td>\n",
       "      <td>0.966667</td>\n",
       "    </tr>\n",
       "  </tbody>\n",
       "</table>\n",
       "</div>"
      ],
      "text/plain": [
       "  param_C param_kernel  mean_test_score\n",
       "0       1          rbf         0.980000\n",
       "1       1       linear         0.980000\n",
       "2      10          rbf         0.980000\n",
       "3      10       linear         0.973333\n",
       "4      20          rbf         0.966667\n",
       "5      20       linear         0.966667"
      ]
     },
     "execution_count": 41,
     "metadata": {},
     "output_type": "execute_result"
    }
   ],
   "source": [
    "from sklearn.model_selection import GridSearchCV\n",
    "from sklearn.svm import SVC\n",
    "\n",
    "gscv = GridSearchCV(SVC(gamma='auto'), {\n",
    "    'C': [1,10,20],\n",
    "    'kernel': ['rbf','linear']\n",
    "}, cv=5, return_train_score=False)\n",
    "\n",
    "gscv.fit(li.data, li.target)\n",
    "\n",
    "df_gscv = pd.DataFrame(gscv.cv_results_)\n",
    "df_gscv[['param_C','param_kernel','mean_test_score']]"
   ]
  },
  {
   "cell_type": "code",
   "execution_count": 42,
   "metadata": {},
   "outputs": [
    {
     "data": {
      "text/html": [
       "<div>\n",
       "<style scoped>\n",
       "    .dataframe tbody tr th:only-of-type {\n",
       "        vertical-align: middle;\n",
       "    }\n",
       "\n",
       "    .dataframe tbody tr th {\n",
       "        vertical-align: top;\n",
       "    }\n",
       "\n",
       "    .dataframe thead th {\n",
       "        text-align: right;\n",
       "    }\n",
       "</style>\n",
       "<table border=\"1\" class=\"dataframe\">\n",
       "  <thead>\n",
       "    <tr style=\"text-align: right;\">\n",
       "      <th></th>\n",
       "      <th>param_C</th>\n",
       "      <th>param_kernel</th>\n",
       "      <th>mean_test_score</th>\n",
       "    </tr>\n",
       "  </thead>\n",
       "  <tbody>\n",
       "    <tr>\n",
       "      <th>0</th>\n",
       "      <td>10</td>\n",
       "      <td>rbf</td>\n",
       "      <td>0.98</td>\n",
       "    </tr>\n",
       "    <tr>\n",
       "      <th>1</th>\n",
       "      <td>1</td>\n",
       "      <td>rbf</td>\n",
       "      <td>0.98</td>\n",
       "    </tr>\n",
       "  </tbody>\n",
       "</table>\n",
       "</div>"
      ],
      "text/plain": [
       "  param_C param_kernel  mean_test_score\n",
       "0      10          rbf             0.98\n",
       "1       1          rbf             0.98"
      ]
     },
     "execution_count": 42,
     "metadata": {},
     "output_type": "execute_result"
    }
   ],
   "source": [
    "from sklearn.model_selection import RandomizedSearchCV\n",
    "rscv = RandomizedSearchCV(SVC(gamma='auto'), {\n",
    "        'C': [1,10,20],\n",
    "        'kernel': ['rbf','linear']\n",
    "    }, cv=5, return_train_score=False, n_iter=2)\n",
    "\n",
    "rscv.fit(li.data, li.target)\n",
    "\n",
    "df_rscv = pd.DataFrame(rscv.cv_results_)\n",
    "df_rscv[['param_C','param_kernel','mean_test_score']]"
   ]
  },
  {
   "cell_type": "markdown",
   "metadata": {},
   "source": [
    "# Ensemble Technique\n",
    "* Bagging algorithms:\n",
    "    * Random forest\n",
    "* Boosting algorithms:\n",
    "    * AdaBoost\n",
    "    * GBM\n",
    "    * XGBM"
   ]
  },
  {
   "cell_type": "code",
   "execution_count": 55,
   "metadata": {},
   "outputs": [
    {
     "data": {
      "text/plain": [
       "1.0"
      ]
     },
     "execution_count": 55,
     "metadata": {},
     "output_type": "execute_result"
    }
   ],
   "source": [
    "# from sklearn.ensemble import AdaBoostRegressor\n",
    "# model = AdaBoostRegressor()\n",
    "\n",
    "from sklearn.ensemble import AdaBoostClassifier\n",
    "adaboost_object = AdaBoostClassifier(random_state=1)\n",
    "adaboost_object.fit(x_train, y_train)\n",
    "y_predict = adaboost_object.predict(x_test)\n",
    "adaboost_object.score(x_test,y_test)"
   ]
  },
  {
   "cell_type": "code",
   "execution_count": 59,
   "metadata": {},
   "outputs": [
    {
     "data": {
      "text/plain": [
       "0.9666666666666667"
      ]
     },
     "execution_count": 59,
     "metadata": {},
     "output_type": "execute_result"
    }
   ],
   "source": [
    "# from sklearn.ensemble import GradientBoostingRegressor\n",
    "# model= GradientBoostingRegressor()\n",
    "\n",
    "from sklearn.ensemble import GradientBoostingClassifier\n",
    "gradientboost_object = GradientBoostingClassifier(learning_rate=0.01,random_state=1)\n",
    "gradientboost_object.fit(x_train, y_train)\n",
    "y_predict = gradientboost_object.predict(x_test)\n",
    "gradientboost_object.score(x_test,y_test)"
   ]
  },
  {
   "cell_type": "markdown",
   "metadata": {},
   "source": [
    "# Unsupervised Learning"
   ]
  },
  {
   "cell_type": "markdown",
   "metadata": {},
   "source": [
    "# K Means Clustering"
   ]
  },
  {
   "cell_type": "code",
   "execution_count": 43,
   "metadata": {},
   "outputs": [
    {
     "data": {
      "text/plain": [
       "<matplotlib.collections.PathCollection at 0x15565a28c40>"
      ]
     },
     "execution_count": 43,
     "metadata": {},
     "output_type": "execute_result"
    },
    {
     "data": {
      "image/png": "[encoded data removed]",
      "text/plain": [
       "<Figure size 432x288 with 1 Axes>"
      ]
     },
     "metadata": {
      "needs_background": "light"
     },
     "output_type": "display_data"
    }
   ],
   "source": [
    "# Plot to figure out number of clusters visually\n",
    "plt.scatter(df['sepal length (cm)'],df['sepal width (cm)'])"
   ]
  },
  {
   "cell_type": "code",
   "execution_count": 44,
   "metadata": {
    "scrolled": true
   },
   "outputs": [
    {
     "data": {
      "text/plain": [
       "<matplotlib.legend.Legend at 0x15565b00c40>"
      ]
     },
     "execution_count": 44,
     "metadata": {},
     "output_type": "execute_result"
    },
    {
     "data": {
      "image/png": "[encoded data removed]",
      "text/plain": [
       "<Figure size 432x288 with 1 Axes>"
      ]
     },
     "metadata": {
      "needs_background": "light"
     },
     "output_type": "display_data"
    }
   ],
   "source": [
    "# There are 3 clusters\n",
    "km = KMeans(n_clusters=3)\n",
    "y_predict = km.fit_predict(df[['sepal length (cm)','sepal width (cm)']])\n",
    "df['K Means Cluster'] = y_predict\n",
    "cluster_centers = km.cluster_centers_\n",
    "\n",
    "# Plot the cluster centers\n",
    "df1 = df[df['K Means Cluster']==0]\n",
    "df2 = df[df['K Means Cluster']==1]\n",
    "df3 = df[df['K Means Cluster']==2]\n",
    "\n",
    "plt.scatter(df1['sepal length (cm)'],df1['sepal width (cm)'])\n",
    "plt.scatter(df2['sepal length (cm)'],df2['sepal width (cm)'])\n",
    "plt.scatter(df3['sepal length (cm)'],df3['sepal width (cm)'])\n",
    "\n",
    "plt.scatter(km.cluster_centers_[:,0],km.cluster_centers_[:,1],color='purple',marker='*',label='centroid')\n",
    "plt.legend()"
   ]
  },
  {
   "cell_type": "code",
   "execution_count": 45,
   "metadata": {
    "scrolled": true
   },
   "outputs": [
    {
     "name": "stderr",
     "output_type": "stream",
     "text": [
      "C:\\Users\\Zuber\\anaconda3\\lib\\site-packages\\sklearn\\cluster\\_kmeans.py:881: UserWarning: KMeans is known to have a memory leak on Windows with MKL, when there are less chunks than available threads. You can avoid it by setting the environment variable OMP_NUM_THREADS=1.\n",
      "  warnings.warn(\n"
     ]
    },
    {
     "data": {
      "text/plain": [
       "[<matplotlib.lines.Line2D at 0x15565b5d940>]"
      ]
     },
     "execution_count": 45,
     "metadata": {},
     "output_type": "execute_result"
    },
    {
     "data": {
      "image/png": "[encoded data removed]",
      "text/plain": [
       "<Figure size 432x288 with 1 Axes>"
      ]
     },
     "metadata": {
      "needs_background": "light"
     },
     "output_type": "display_data"
    }
   ],
   "source": [
    "# Elbow Plot helps find k value\n",
    "sum_of_squared_error = []\n",
    "k_range = range(1,10)\n",
    "for k in k_range:\n",
    "    km = KMeans(n_clusters=k)\n",
    "    km.fit(df[['sepal length (cm)','sepal width (cm)']])\n",
    "    sum_of_squared_error.append(km.inertia_)\n",
    "    \n",
    "plt.plot(k_range,sum_of_squared_error)"
   ]
  },
  {
   "cell_type": "markdown",
   "metadata": {},
   "source": [
    "# PCA (Principal Component Analysis) \n",
    "* Helps reduce number of columns in a dataset\n",
    "* Speeds up machine learning time for huge datasets\n",
    "* There is a loss of variance after PCA"
   ]
  },
  {
   "cell_type": "code",
   "execution_count": 54,
   "metadata": {},
   "outputs": [
    {
     "data": {
      "text/plain": [
       "Text(0, 0.5, 'Second principle component')"
      ]
     },
     "execution_count": 54,
     "metadata": {},
     "output_type": "execute_result"
    },
    {
     "data": {
      "image/png": "[encoded data removed]",
      "text/plain": [
       "<Figure size 432x288 with 1 Axes>"
      ]
     },
     "metadata": {
      "needs_background": "light"
     },
     "output_type": "display_data"
    }
   ],
   "source": [
    "from sklearn.decomposition import PCA\n",
    "pca = PCA(n_components=2)\n",
    "pca.fit(x)\n",
    "x_pca = pca.transform(x)\n",
    "\n",
    "# x.shape\n",
    "# x_pca.shape\n",
    "\n",
    "plt.figure()\n",
    "plt.scatter(x_pca[:,0],x_pca[:,1], c=li.target)\n",
    "plt.xlabel('First principle component')\n",
    "plt.ylabel('Second principle component')"
   ]
  },
  {
   "cell_type": "markdown",
   "metadata": {},
   "source": [
    "# Save, Load a Machine Learning Model"
   ]
  },
  {
   "cell_type": "code",
   "execution_count": null,
   "metadata": {},
   "outputs": [],
   "source": [
    "# from sklearn.externals import joblib\n",
    "# joblib.dump(model, 'model_joblib')\n",
    "# pre_trained_model = joblib.load('model_joblib')\n",
    "# pre_trained_model.predict(x_test)"
   ]
  }
 ],
 "metadata": {
  "kernelspec": {
   "display_name": "Python 3 (ipykernel)",
   "language": "python",
   "name": "python3"
  },
  "language_info": {
   "codemirror_mode": {
    "name": "ipython",
    "version": 3
   },
   "file_extension": ".py",
   "mimetype": "text/x-python",
   "name": "python",
   "nbconvert_exporter": "python",
   "pygments_lexer": "ipython3",
   "version": "3.9.12"
  }
 },
 "nbformat": 4,
 "nbformat_minor": 4
}
